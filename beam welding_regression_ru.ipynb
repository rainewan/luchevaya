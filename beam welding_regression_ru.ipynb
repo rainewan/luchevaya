{
  "nbformat": 4,
  "nbformat_minor": 0,
  "metadata": {
    "colab": {
      "provenance": [],
      "collapsed_sections": [
        "KrbWadohmKDW",
        "MjCQC1vnnd_U",
        "ngNKstRwoNdM",
        "6ewkSN9HopdT",
        "RzZx24IvpPpY",
        "-tbgxyW2qCuZ",
        "nJOi2r0arUPO",
        "yCP03WOquUGV",
        "3WgaOpdsv9Jh",
        "dPkdL2NpxnvE",
        "N4PQ78JB0WW1",
        "09X1D2ix0Y0a",
        "axWFX8iV7ADk",
        "pwgPHMUP7mxV",
        "G22-9Kk77C3S",
        "LaEhURFG8lhz",
        "aZRr2fhN637z",
        "pDYEtCnWA1u1"
      ]
    },
    "kernelspec": {
      "name": "python3",
      "display_name": "Python 3"
    },
    "language_info": {
      "name": "python"
    },
    "accelerator": "GPU",
    "gpuClass": "standard"
  },
  "cells": [
    {
      "cell_type": "markdown",
      "source": [
        "#Кейс"
      ],
      "metadata": {
        "id": "hDMyoYgmgnCO"
      }
    },
    {
      "cell_type": "markdown",
      "source": [
        "##«Прогнозирование размеров сварного шва при электронно-лучевой сварке тонкостенных конструкций аэрокосмического назначения»"
      ],
      "metadata": {
        "id": "MvRPoLwjhAf3"
      }
    },
    {
      "cell_type": "markdown",
      "source": [
        "##загрузка данных"
      ],
      "metadata": {
        "id": "KrbWadohmKDW"
      }
    },
    {
      "cell_type": "code",
      "source": [
        "path = 'https://raw.githubusercontent.com/rainewan/luchevaya/main/ebw_data.csv'"
      ],
      "metadata": {
        "id": "8VVp1FOCmaV9"
      },
      "execution_count": null,
      "outputs": []
    },
    {
      "cell_type": "markdown",
      "source": [
        "##import"
      ],
      "metadata": {
        "id": "8u-60_4Pml3k"
      }
    },
    {
      "cell_type": "code",
      "source": [
        "#общие\n",
        "\n",
        "#ML\n",
        "from sklearn.linear_model import LinearRegression #линейная регрессия\n",
        "from sklearn.model_selection import train_test_split, GridSearchCV, cross_val_score, RepeatedKFold\n",
        "\n",
        "from sklearn.neighbors import KNeighborsRegressor  #регрессия на основе метода ближайших соседей\n",
        "from sklearn.ensemble import GradientBoostingRegressor, StackingRegressor\n",
        "from sklearn.ensemble import RandomForestRegressor\n",
        "\n",
        "from sklearn import preprocessing #предобработка данных\n",
        "#metrics\n",
        "from sklearn.metrics import mean_absolute_error, mean_absolute_percentage_error, mean_squared_error\n",
        "\n",
        "#для работы с данными\n",
        "import pandas as pd\n",
        "import numpy as np\n",
        "import matplotlib.pyplot as plt\n",
        "import seaborn as sns\n",
        "from matplotlib import image as plt_image\n",
        "from tensorflow.keras.preprocessing import image\n",
        "from PIL import Image\n",
        "\n",
        "#rpeprocessing\n",
        "from sklearn.preprocessing import StandardScaler, MinMaxScaler\n",
        "from tensorflow.keras import utils #для методов обработки признаков (в т.ч. OHE)\n",
        "\n",
        "#neural networks\n",
        "from tensorflow.keras.models import Sequential#Последовательная архитектура (слой за слоем)=\n",
        "from tensorflow.keras.layers import Dense, Dropout, BatchNormalization #Dense слои и нормализация батчей, и дропаут\n",
        "from tensorflow.keras.layers import Conv2D #двухмерная свертка\n",
        "from tensorflow.keras.layers import MaxPool2D #слой для извлечения максимальных значений признаков из свёртки\n",
        "from tensorflow.keras.layers import Flatten #выпрямление матрицы в вектор\n",
        "from tensorflow.keras.callbacks import EarlyStopping #ранняя остановка\n",
        "from tensorflow.compat.v1.keras.layers import CuDNNLSTM\n",
        "\n",
        "from sklearn.manifold import TSNE\n",
        "from sklearn.cluster import DBSCAN, KMeans, AgglomerativeClustering\n",
        "#clusters metricis\n",
        "from sklearn.metrics import adjusted_mutual_info_score, adjusted_rand_score, silhouette_score\n",
        "\n",
        "\n",
        "#Neural networks\n",
        "import tensorflow as tf # для удобства написания в коде\n",
        "\n",
        "sns.set_style('darkgrid')\n",
        "%matplotlib inline"
      ],
      "metadata": {
        "id": "9fjFACF8mkSc"
      },
      "execution_count": null,
      "outputs": []
    },
    {
      "cell_type": "markdown",
      "source": [
        "##работа с данными"
      ],
      "metadata": {
        "id": "MjCQC1vnnd_U"
      }
    },
    {
      "cell_type": "code",
      "source": [
        "data = pd.read_csv(path)\n",
        "data"
      ],
      "metadata": {
        "colab": {
          "base_uri": "https://localhost:8080/"
        },
        "id": "KHAnzYDynf67",
        "outputId": "6a63e132-b6bb-4dc0-f248-fed9a4a03bef"
      },
      "execution_count": null,
      "outputs": [
        {
          "output_type": "execute_result",
          "data": {
            "text/plain": [
              "    IW   IF   VW  FP  Depth  Width\n",
              "0   47  139  4.5  80   1.60   2.54\n",
              "1   47  139  4.5  80   1.62   2.50\n",
              "2   47  139  4.5  80   1.68   2.60\n",
              "3   47  139  4.5  80   1.58   2.52\n",
              "4   45  140  4.5  80   1.76   2.48\n",
              "..  ..  ...  ...  ..    ...    ...\n",
              "67  44  146  9.0  60   1.20   1.72\n",
              "68  45  146  9.0  60   1.36   1.76\n",
              "69  45  146  9.0  60   1.28   1.76\n",
              "70  45  146  9.0  60   1.28   1.76\n",
              "71  45  146  9.0  60   1.32   1.76\n",
              "\n",
              "[72 rows x 6 columns]"
            ],
            "text/html": [
              "\n",
              "  <div id=\"df-71c46f26-a1a5-4bba-8ae8-95e3b7bfe245\">\n",
              "    <div class=\"colab-df-container\">\n",
              "      <div>\n",
              "<style scoped>\n",
              "    .dataframe tbody tr th:only-of-type {\n",
              "        vertical-align: middle;\n",
              "    }\n",
              "\n",
              "    .dataframe tbody tr th {\n",
              "        vertical-align: top;\n",
              "    }\n",
              "\n",
              "    .dataframe thead th {\n",
              "        text-align: right;\n",
              "    }\n",
              "</style>\n",
              "<table border=\"1\" class=\"dataframe\">\n",
              "  <thead>\n",
              "    <tr style=\"text-align: right;\">\n",
              "      <th></th>\n",
              "      <th>IW</th>\n",
              "      <th>IF</th>\n",
              "      <th>VW</th>\n",
              "      <th>FP</th>\n",
              "      <th>Depth</th>\n",
              "      <th>Width</th>\n",
              "    </tr>\n",
              "  </thead>\n",
              "  <tbody>\n",
              "    <tr>\n",
              "      <th>0</th>\n",
              "      <td>47</td>\n",
              "      <td>139</td>\n",
              "      <td>4.5</td>\n",
              "      <td>80</td>\n",
              "      <td>1.60</td>\n",
              "      <td>2.54</td>\n",
              "    </tr>\n",
              "    <tr>\n",
              "      <th>1</th>\n",
              "      <td>47</td>\n",
              "      <td>139</td>\n",
              "      <td>4.5</td>\n",
              "      <td>80</td>\n",
              "      <td>1.62</td>\n",
              "      <td>2.50</td>\n",
              "    </tr>\n",
              "    <tr>\n",
              "      <th>2</th>\n",
              "      <td>47</td>\n",
              "      <td>139</td>\n",
              "      <td>4.5</td>\n",
              "      <td>80</td>\n",
              "      <td>1.68</td>\n",
              "      <td>2.60</td>\n",
              "    </tr>\n",
              "    <tr>\n",
              "      <th>3</th>\n",
              "      <td>47</td>\n",
              "      <td>139</td>\n",
              "      <td>4.5</td>\n",
              "      <td>80</td>\n",
              "      <td>1.58</td>\n",
              "      <td>2.52</td>\n",
              "    </tr>\n",
              "    <tr>\n",
              "      <th>4</th>\n",
              "      <td>45</td>\n",
              "      <td>140</td>\n",
              "      <td>4.5</td>\n",
              "      <td>80</td>\n",
              "      <td>1.76</td>\n",
              "      <td>2.48</td>\n",
              "    </tr>\n",
              "    <tr>\n",
              "      <th>...</th>\n",
              "      <td>...</td>\n",
              "      <td>...</td>\n",
              "      <td>...</td>\n",
              "      <td>...</td>\n",
              "      <td>...</td>\n",
              "      <td>...</td>\n",
              "    </tr>\n",
              "    <tr>\n",
              "      <th>67</th>\n",
              "      <td>44</td>\n",
              "      <td>146</td>\n",
              "      <td>9.0</td>\n",
              "      <td>60</td>\n",
              "      <td>1.20</td>\n",
              "      <td>1.72</td>\n",
              "    </tr>\n",
              "    <tr>\n",
              "      <th>68</th>\n",
              "      <td>45</td>\n",
              "      <td>146</td>\n",
              "      <td>9.0</td>\n",
              "      <td>60</td>\n",
              "      <td>1.36</td>\n",
              "      <td>1.76</td>\n",
              "    </tr>\n",
              "    <tr>\n",
              "      <th>69</th>\n",
              "      <td>45</td>\n",
              "      <td>146</td>\n",
              "      <td>9.0</td>\n",
              "      <td>60</td>\n",
              "      <td>1.28</td>\n",
              "      <td>1.76</td>\n",
              "    </tr>\n",
              "    <tr>\n",
              "      <th>70</th>\n",
              "      <td>45</td>\n",
              "      <td>146</td>\n",
              "      <td>9.0</td>\n",
              "      <td>60</td>\n",
              "      <td>1.28</td>\n",
              "      <td>1.76</td>\n",
              "    </tr>\n",
              "    <tr>\n",
              "      <th>71</th>\n",
              "      <td>45</td>\n",
              "      <td>146</td>\n",
              "      <td>9.0</td>\n",
              "      <td>60</td>\n",
              "      <td>1.32</td>\n",
              "      <td>1.76</td>\n",
              "    </tr>\n",
              "  </tbody>\n",
              "</table>\n",
              "<p>72 rows × 6 columns</p>\n",
              "</div>\n",
              "      <button class=\"colab-df-convert\" onclick=\"convertToInteractive('df-71c46f26-a1a5-4bba-8ae8-95e3b7bfe245')\"\n",
              "              title=\"Convert this dataframe to an interactive table.\"\n",
              "              style=\"display:none;\">\n",
              "        \n",
              "  <svg xmlns=\"http://www.w3.org/2000/svg\" height=\"24px\"viewBox=\"0 0 24 24\"\n",
              "       width=\"24px\">\n",
              "    <path d=\"M0 0h24v24H0V0z\" fill=\"none\"/>\n",
              "    <path d=\"M18.56 5.44l.94 2.06.94-2.06 2.06-.94-2.06-.94-.94-2.06-.94 2.06-2.06.94zm-11 1L8.5 8.5l.94-2.06 2.06-.94-2.06-.94L8.5 2.5l-.94 2.06-2.06.94zm10 10l.94 2.06.94-2.06 2.06-.94-2.06-.94-.94-2.06-.94 2.06-2.06.94z\"/><path d=\"M17.41 7.96l-1.37-1.37c-.4-.4-.92-.59-1.43-.59-.52 0-1.04.2-1.43.59L10.3 9.45l-7.72 7.72c-.78.78-.78 2.05 0 2.83L4 21.41c.39.39.9.59 1.41.59.51 0 1.02-.2 1.41-.59l7.78-7.78 2.81-2.81c.8-.78.8-2.07 0-2.86zM5.41 20L4 18.59l7.72-7.72 1.47 1.35L5.41 20z\"/>\n",
              "  </svg>\n",
              "      </button>\n",
              "      \n",
              "  <style>\n",
              "    .colab-df-container {\n",
              "      display:flex;\n",
              "      flex-wrap:wrap;\n",
              "      gap: 12px;\n",
              "    }\n",
              "\n",
              "    .colab-df-convert {\n",
              "      background-color: #E8F0FE;\n",
              "      border: none;\n",
              "      border-radius: 50%;\n",
              "      cursor: pointer;\n",
              "      display: none;\n",
              "      fill: #1967D2;\n",
              "      height: 32px;\n",
              "      padding: 0 0 0 0;\n",
              "      width: 32px;\n",
              "    }\n",
              "\n",
              "    .colab-df-convert:hover {\n",
              "      background-color: #E2EBFA;\n",
              "      box-shadow: 0px 1px 2px rgba(60, 64, 67, 0.3), 0px 1px 3px 1px rgba(60, 64, 67, 0.15);\n",
              "      fill: #174EA6;\n",
              "    }\n",
              "\n",
              "    [theme=dark] .colab-df-convert {\n",
              "      background-color: #3B4455;\n",
              "      fill: #D2E3FC;\n",
              "    }\n",
              "\n",
              "    [theme=dark] .colab-df-convert:hover {\n",
              "      background-color: #434B5C;\n",
              "      box-shadow: 0px 1px 3px 1px rgba(0, 0, 0, 0.15);\n",
              "      filter: drop-shadow(0px 1px 2px rgba(0, 0, 0, 0.3));\n",
              "      fill: #FFFFFF;\n",
              "    }\n",
              "  </style>\n",
              "\n",
              "      <script>\n",
              "        const buttonEl =\n",
              "          document.querySelector('#df-71c46f26-a1a5-4bba-8ae8-95e3b7bfe245 button.colab-df-convert');\n",
              "        buttonEl.style.display =\n",
              "          google.colab.kernel.accessAllowed ? 'block' : 'none';\n",
              "\n",
              "        async function convertToInteractive(key) {\n",
              "          const element = document.querySelector('#df-71c46f26-a1a5-4bba-8ae8-95e3b7bfe245');\n",
              "          const dataTable =\n",
              "            await google.colab.kernel.invokeFunction('convertToInteractive',\n",
              "                                                     [key], {});\n",
              "          if (!dataTable) return;\n",
              "\n",
              "          const docLinkHtml = 'Like what you see? Visit the ' +\n",
              "            '<a target=\"_blank\" href=https://colab.research.google.com/notebooks/data_table.ipynb>data table notebook</a>'\n",
              "            + ' to learn more about interactive tables.';\n",
              "          element.innerHTML = '';\n",
              "          dataTable['output_type'] = 'display_data';\n",
              "          await google.colab.output.renderOutput(dataTable, element);\n",
              "          const docLink = document.createElement('div');\n",
              "          docLink.innerHTML = docLinkHtml;\n",
              "          element.appendChild(docLink);\n",
              "        }\n",
              "      </script>\n",
              "    </div>\n",
              "  </div>\n",
              "  "
            ]
          },
          "metadata": {},
          "execution_count": 35
        }
      ]
    },
    {
      "cell_type": "markdown",
      "source": [
        "##Смотрим что загрузилось"
      ],
      "metadata": {
        "id": "ngNKstRwoNdM"
      }
    },
    {
      "cell_type": "code",
      "source": [
        "data.info()"
      ],
      "metadata": {
        "colab": {
          "base_uri": "https://localhost:8080/"
        },
        "id": "dyACaMxGoQzG",
        "outputId": "ad9cc426-ec80-4032-8625-b45726eba272"
      },
      "execution_count": null,
      "outputs": [
        {
          "output_type": "stream",
          "name": "stdout",
          "text": [
            "<class 'pandas.core.frame.DataFrame'>\n",
            "RangeIndex: 72 entries, 0 to 71\n",
            "Data columns (total 6 columns):\n",
            " #   Column  Non-Null Count  Dtype  \n",
            "---  ------  --------------  -----  \n",
            " 0   IW      72 non-null     int64  \n",
            " 1   IF      72 non-null     int64  \n",
            " 2   VW      72 non-null     float64\n",
            " 3   FP      72 non-null     int64  \n",
            " 4   Depth   72 non-null     float64\n",
            " 5   Width   72 non-null     float64\n",
            "dtypes: float64(3), int64(3)\n",
            "memory usage: 3.5 KB\n"
          ]
        }
      ]
    },
    {
      "cell_type": "code",
      "source": [
        "data.shape"
      ],
      "metadata": {
        "colab": {
          "base_uri": "https://localhost:8080/"
        },
        "id": "p2ux1faCofvt",
        "outputId": "b1a040f2-617c-4e30-9163-97bef2dfec50"
      },
      "execution_count": null,
      "outputs": [
        {
          "output_type": "execute_result",
          "data": {
            "text/plain": [
              "(72, 6)"
            ]
          },
          "metadata": {},
          "execution_count": 37
        }
      ]
    },
    {
      "cell_type": "markdown",
      "source": [
        "###смотрим пропуски"
      ],
      "metadata": {
        "id": "6ewkSN9HopdT"
      }
    },
    {
      "cell_type": "code",
      "source": [
        "sns.heatmap(data.isna(), cmap = 'viridis', cbar = False)\n",
        "plt.show()"
      ],
      "metadata": {
        "colab": {
          "base_uri": "https://localhost:8080/"
        },
        "id": "EMbfWNzfoq8A",
        "outputId": "e5f723f2-627d-4edb-c740-3f63cd4bf727"
      },
      "execution_count": null,
      "outputs": [
        {
          "output_type": "display_data",
          "data": {
            "text/plain": [
              "<Figure size 640x480 with 1 Axes>"
            ],
            "image/png": "[encoded data removed]"
          },
          "metadata": {}
        }
      ]
    },
    {
      "cell_type": "code",
      "source": [
        "#1.\tСнижалась величина сварочного тока (IW);\n",
        "#2.\tУвеличивался ток фокусировки электронного пучка (IF);\n",
        "#3.\tУвеличивалась скорость сварки (VW);\n",
        "#4.\tМенялось расстояние от поверхности образцов до электронно-оптической системы (FP).\n",
        "#По совокупности параметров технологических режимов обеспечивались минимально\n",
        "#возможные размеры сварных швов: глубина шва (Depth) и ширина шва (Width)\n",
        "# описательная статистика\n",
        "round(data.describe(),2) #округление до 2 знаков после запятой"
      ],
      "metadata": {
        "colab": {
          "base_uri": "https://localhost:8080/"
        },
        "id": "NYQjHPqjJ0bX",
        "outputId": "6afd74c3-0eeb-401d-c083-6747d7b04ce2"
      },
      "execution_count": null,
      "outputs": [
        {
          "output_type": "execute_result",
          "data": {
            "text/plain": [
              "          IW      IF     VW      FP  Depth  Width\n",
              "count  72.00   72.00  72.00   72.00  72.00  72.00\n",
              "mean   45.67  141.33   8.64   78.33   1.20   1.97\n",
              "std     1.68    5.15   2.06   21.49   0.23   0.28\n",
              "min    43.00  131.00   4.50   50.00   0.80   1.68\n",
              "25%    44.00  139.00   8.00   60.00   1.08   1.76\n",
              "50%    45.50  141.00   9.00   80.00   1.20   1.84\n",
              "75%    47.00  146.00  10.00   80.00   1.29   2.05\n",
              "max    49.00  150.00  12.00  125.00   1.76   2.60"
            ],
            "text/html": [
              "\n",
              "  <div id=\"df-dc76fcf8-3ad3-4421-8034-e281bc323c5d\">\n",
              "    <div class=\"colab-df-container\">\n",
              "      <div>\n",
              "<style scoped>\n",
              "    .dataframe tbody tr th:only-of-type {\n",
              "        vertical-align: middle;\n",
              "    }\n",
              "\n",
              "    .dataframe tbody tr th {\n",
              "        vertical-align: top;\n",
              "    }\n",
              "\n",
              "    .dataframe thead th {\n",
              "        text-align: right;\n",
              "    }\n",
              "</style>\n",
              "<table border=\"1\" class=\"dataframe\">\n",
              "  <thead>\n",
              "    <tr style=\"text-align: right;\">\n",
              "      <th></th>\n",
              "      <th>IW</th>\n",
              "      <th>IF</th>\n",
              "      <th>VW</th>\n",
              "      <th>FP</th>\n",
              "      <th>Depth</th>\n",
              "      <th>Width</th>\n",
              "    </tr>\n",
              "  </thead>\n",
              "  <tbody>\n",
              "    <tr>\n",
              "      <th>count</th>\n",
              "      <td>72.00</td>\n",
              "      <td>72.00</td>\n",
              "      <td>72.00</td>\n",
              "      <td>72.00</td>\n",
              "      <td>72.00</td>\n",
              "      <td>72.00</td>\n",
              "    </tr>\n",
              "    <tr>\n",
              "      <th>mean</th>\n",
              "      <td>45.67</td>\n",
              "      <td>141.33</td>\n",
              "      <td>8.64</td>\n",
              "      <td>78.33</td>\n",
              "      <td>1.20</td>\n",
              "      <td>1.97</td>\n",
              "    </tr>\n",
              "    <tr>\n",
              "      <th>std</th>\n",
              "      <td>1.68</td>\n",
              "      <td>5.15</td>\n",
              "      <td>2.06</td>\n",
              "      <td>21.49</td>\n",
              "      <td>0.23</td>\n",
              "      <td>0.28</td>\n",
              "    </tr>\n",
              "    <tr>\n",
              "      <th>min</th>\n",
              "      <td>43.00</td>\n",
              "      <td>131.00</td>\n",
              "      <td>4.50</td>\n",
              "      <td>50.00</td>\n",
              "      <td>0.80</td>\n",
              "      <td>1.68</td>\n",
              "    </tr>\n",
              "    <tr>\n",
              "      <th>25%</th>\n",
              "      <td>44.00</td>\n",
              "      <td>139.00</td>\n",
              "      <td>8.00</td>\n",
              "      <td>60.00</td>\n",
              "      <td>1.08</td>\n",
              "      <td>1.76</td>\n",
              "    </tr>\n",
              "    <tr>\n",
              "      <th>50%</th>\n",
              "      <td>45.50</td>\n",
              "      <td>141.00</td>\n",
              "      <td>9.00</td>\n",
              "      <td>80.00</td>\n",
              "      <td>1.20</td>\n",
              "      <td>1.84</td>\n",
              "    </tr>\n",
              "    <tr>\n",
              "      <th>75%</th>\n",
              "      <td>47.00</td>\n",
              "      <td>146.00</td>\n",
              "      <td>10.00</td>\n",
              "      <td>80.00</td>\n",
              "      <td>1.29</td>\n",
              "      <td>2.05</td>\n",
              "    </tr>\n",
              "    <tr>\n",
              "      <th>max</th>\n",
              "      <td>49.00</td>\n",
              "      <td>150.00</td>\n",
              "      <td>12.00</td>\n",
              "      <td>125.00</td>\n",
              "      <td>1.76</td>\n",
              "      <td>2.60</td>\n",
              "    </tr>\n",
              "  </tbody>\n",
              "</table>\n",
              "</div>\n",
              "      <button class=\"colab-df-convert\" onclick=\"convertToInteractive('df-dc76fcf8-3ad3-4421-8034-e281bc323c5d')\"\n",
              "              title=\"Convert this dataframe to an interactive table.\"\n",
              "              style=\"display:none;\">\n",
              "        \n",
              "  <svg xmlns=\"http://www.w3.org/2000/svg\" height=\"24px\"viewBox=\"0 0 24 24\"\n",
              "       width=\"24px\">\n",
              "    <path d=\"M0 0h24v24H0V0z\" fill=\"none\"/>\n",
              "    <path d=\"M18.56 5.44l.94 2.06.94-2.06 2.06-.94-2.06-.94-.94-2.06-.94 2.06-2.06.94zm-11 1L8.5 8.5l.94-2.06 2.06-.94-2.06-.94L8.5 2.5l-.94 2.06-2.06.94zm10 10l.94 2.06.94-2.06 2.06-.94-2.06-.94-.94-2.06-.94 2.06-2.06.94z\"/><path d=\"M17.41 7.96l-1.37-1.37c-.4-.4-.92-.59-1.43-.59-.52 0-1.04.2-1.43.59L10.3 9.45l-7.72 7.72c-.78.78-.78 2.05 0 2.83L4 21.41c.39.39.9.59 1.41.59.51 0 1.02-.2 1.41-.59l7.78-7.78 2.81-2.81c.8-.78.8-2.07 0-2.86zM5.41 20L4 18.59l7.72-7.72 1.47 1.35L5.41 20z\"/>\n",
              "  </svg>\n",
              "      </button>\n",
              "      \n",
              "  <style>\n",
              "    .colab-df-container {\n",
              "      display:flex;\n",
              "      flex-wrap:wrap;\n",
              "      gap: 12px;\n",
              "    }\n",
              "\n",
              "    .colab-df-convert {\n",
              "      background-color: #E8F0FE;\n",
              "      border: none;\n",
              "      border-radius: 50%;\n",
              "      cursor: pointer;\n",
              "      display: none;\n",
              "      fill: #1967D2;\n",
              "      height: 32px;\n",
              "      padding: 0 0 0 0;\n",
              "      width: 32px;\n",
              "    }\n",
              "\n",
              "    .colab-df-convert:hover {\n",
              "      background-color: #E2EBFA;\n",
              "      box-shadow: 0px 1px 2px rgba(60, 64, 67, 0.3), 0px 1px 3px 1px rgba(60, 64, 67, 0.15);\n",
              "      fill: #174EA6;\n",
              "    }\n",
              "\n",
              "    [theme=dark] .colab-df-convert {\n",
              "      background-color: #3B4455;\n",
              "      fill: #D2E3FC;\n",
              "    }\n",
              "\n",
              "    [theme=dark] .colab-df-convert:hover {\n",
              "      background-color: #434B5C;\n",
              "      box-shadow: 0px 1px 3px 1px rgba(0, 0, 0, 0.15);\n",
              "      filter: drop-shadow(0px 1px 2px rgba(0, 0, 0, 0.3));\n",
              "      fill: #FFFFFF;\n",
              "    }\n",
              "  </style>\n",
              "\n",
              "      <script>\n",
              "        const buttonEl =\n",
              "          document.querySelector('#df-dc76fcf8-3ad3-4421-8034-e281bc323c5d button.colab-df-convert');\n",
              "        buttonEl.style.display =\n",
              "          google.colab.kernel.accessAllowed ? 'block' : 'none';\n",
              "\n",
              "        async function convertToInteractive(key) {\n",
              "          const element = document.querySelector('#df-dc76fcf8-3ad3-4421-8034-e281bc323c5d');\n",
              "          const dataTable =\n",
              "            await google.colab.kernel.invokeFunction('convertToInteractive',\n",
              "                                                     [key], {});\n",
              "          if (!dataTable) return;\n",
              "\n",
              "          const docLinkHtml = 'Like what you see? Visit the ' +\n",
              "            '<a target=\"_blank\" href=https://colab.research.google.com/notebooks/data_table.ipynb>data table notebook</a>'\n",
              "            + ' to learn more about interactive tables.';\n",
              "          element.innerHTML = '';\n",
              "          dataTable['output_type'] = 'display_data';\n",
              "          await google.colab.output.renderOutput(dataTable, element);\n",
              "          const docLink = document.createElement('div');\n",
              "          docLink.innerHTML = docLinkHtml;\n",
              "          element.appendChild(docLink);\n",
              "        }\n",
              "      </script>\n",
              "    </div>\n",
              "  </div>\n",
              "  "
            ]
          },
          "metadata": {},
          "execution_count": 39
        }
      ]
    },
    {
      "cell_type": "code",
      "source": [
        "#количество уникальных значений\n",
        "data.nunique ()"
      ],
      "metadata": {
        "colab": {
          "base_uri": "https://localhost:8080/"
        },
        "id": "of4rCnY-VhWw",
        "outputId": "14bfed94-fe9b-4cb3-b891-cb805c9595ed"
      },
      "execution_count": null,
      "outputs": [
        {
          "output_type": "execute_result",
          "data": {
            "text/plain": [
              "IW        7\n",
              "IF        8\n",
              "VW        5\n",
              "FP        5\n",
              "Depth    29\n",
              "Width    25\n",
              "dtype: int64"
            ]
          },
          "metadata": {},
          "execution_count": 40
        }
      ]
    },
    {
      "cell_type": "code",
      "source": [
        "print(data.corr())"
      ],
      "metadata": {
        "colab": {
          "base_uri": "https://localhost:8080/"
        },
        "id": "GNJptEWDJ0eC",
        "outputId": "6896f3f8-5e98-4ef6-f58e-19723973001a"
      },
      "execution_count": null,
      "outputs": [
        {
          "output_type": "stream",
          "name": "stdout",
          "text": [
            "             IW        IF        VW        FP     Depth     Width\n",
            "IW     1.000000 -0.861073 -0.043430  0.835530 -0.289568  0.434869\n",
            "IF    -0.861073  1.000000  0.115093 -0.980562  0.376084 -0.510167\n",
            "VW    -0.043430  0.115093  1.000000 -0.001060 -0.671437 -0.874257\n",
            "FP     0.835530 -0.980562 -0.001060  1.000000 -0.510748  0.412962\n",
            "Depth -0.289568  0.376084 -0.671437 -0.510748  1.000000  0.425391\n",
            "Width  0.434869 -0.510167 -0.874257  0.412962  0.425391  1.000000\n"
          ]
        }
      ]
    },
    {
      "cell_type": "markdown",
      "source": [
        "##Анализ корреляции\n"
      ],
      "metadata": {
        "id": "orIo-HF9iTkL"
      }
    },
    {
      "cell_type": "markdown",
      "source": [
        "Толщина шва антикоррелирует со скоростью сварки. Расстояние от поверхности образцов до электронно-оптической системы коррелирует с Величиной сварочного тока и Антикоррелирует с Током фокусировки электронного пучка"
      ],
      "metadata": {
        "id": "-M6xD9sSjg_u"
      }
    },
    {
      "cell_type": "markdown",
      "source": [
        "##изучаем целевую переменную\n"
      ],
      "metadata": {
        "id": "3WgaOpdsv9Jh"
      }
    },
    {
      "cell_type": "markdown",
      "source": [],
      "metadata": {
        "id": "AMiRVY2zjdl7"
      }
    },
    {
      "cell_type": "code",
      "source": [
        "data['Depth'].value_counts()"
      ],
      "metadata": {
        "colab": {
          "base_uri": "https://localhost:8080/"
        },
        "id": "2xTZ6-2ov_e1",
        "outputId": "7810843b-bc87-4c7c-be77-0b218ef6a30a"
      },
      "execution_count": null,
      "outputs": [
        {
          "output_type": "execute_result",
          "data": {
            "text/plain": [
              "1.20    14\n",
              "1.08     6\n",
              "1.36     6\n",
              "1.24     5\n",
              "1.28     4\n",
              "1.12     3\n",
              "0.80     3\n",
              "0.84     3\n",
              "1.32     3\n",
              "1.16     3\n",
              "1.00     2\n",
              "0.96     2\n",
              "1.64     2\n",
              "0.98     1\n",
              "0.86     1\n",
              "1.68     1\n",
              "1.58     1\n",
              "1.18     1\n",
              "1.22     1\n",
              "1.76     1\n",
              "0.88     1\n",
              "1.40     1\n",
              "1.72     1\n",
              "1.02     1\n",
              "0.94     1\n",
              "0.92     1\n",
              "1.62     1\n",
              "1.04     1\n",
              "1.60     1\n",
              "Name: Depth, dtype: int64"
            ]
          },
          "metadata": {},
          "execution_count": 42
        }
      ]
    },
    {
      "cell_type": "code",
      "source": [
        "data['Width'].value_counts()"
      ],
      "metadata": {
        "colab": {
          "base_uri": "https://localhost:8080/"
        },
        "id": "iVbFq7yuJSiJ",
        "outputId": "11c18c1a-8716-4d31-c94a-e0215ae7c2a0"
      },
      "execution_count": null,
      "outputs": [
        {
          "output_type": "execute_result",
          "data": {
            "text/plain": [
              "1.76    12\n",
              "1.80     8\n",
              "2.48     5\n",
              "1.96     4\n",
              "1.72     4\n",
              "1.86     4\n",
              "1.84     4\n",
              "1.82     4\n",
              "2.00     3\n",
              "2.52     3\n",
              "1.78     3\n",
              "2.24     2\n",
              "2.28     2\n",
              "1.68     2\n",
              "1.94     2\n",
              "2.08     1\n",
              "2.04     1\n",
              "2.54     1\n",
              "2.16     1\n",
              "1.71     1\n",
              "2.50     1\n",
              "1.90     1\n",
              "2.56     1\n",
              "2.60     1\n",
              "1.88     1\n",
              "Name: Width, dtype: int64"
            ]
          },
          "metadata": {},
          "execution_count": 43
        }
      ]
    },
    {
      "cell_type": "code",
      "source": [
        "data['Depth'].hist()"
      ],
      "metadata": {
        "colab": {
          "base_uri": "https://localhost:8080/"
        },
        "id": "w1FDKRqZwH8V",
        "outputId": "c73ff5f6-8bed-4054-d613-54b623639d90"
      },
      "execution_count": null,
      "outputs": [
        {
          "output_type": "execute_result",
          "data": {
            "text/plain": [
              "<Axes: >"
            ]
          },
          "metadata": {},
          "execution_count": 44
        },
        {
          "output_type": "display_data",
          "data": {
            "text/plain": [
              "<Figure size 640x480 with 1 Axes>"
            ],
            "image/png": "[encoded data removed]"
          },
          "metadata": {}
        }
      ]
    },
    {
      "cell_type": "code",
      "source": [
        "data['Width'].hist()"
      ],
      "metadata": {
        "colab": {
          "base_uri": "https://localhost:8080/"
        },
        "id": "P7ZJ0SNQJam8",
        "outputId": "2e687aef-251c-4776-b9df-f63ef5ee8401"
      },
      "execution_count": null,
      "outputs": [
        {
          "output_type": "execute_result",
          "data": {
            "text/plain": [
              "<Axes: >"
            ]
          },
          "metadata": {},
          "execution_count": 45
        },
        {
          "output_type": "display_data",
          "data": {
            "text/plain": [
              "<Figure size 640x480 with 1 Axes>"
            ],
            "image/png": "[encoded data removed]"
          },
          "metadata": {}
        }
      ]
    },
    {
      "cell_type": "markdown",
      "source": [
        "##TSNE"
      ],
      "metadata": {
        "id": "3exkgIk44Oce"
      }
    },
    {
      "cell_type": "code",
      "source": [
        "t_sne = TSNE(n_components=2)\n",
        "t_sne_X = t_sne.fit_transform(data[['IW',\t'IF',\t'VW',\t'FP']])"
      ],
      "metadata": {
        "id": "7DoHONjY4OpV"
      },
      "execution_count": null,
      "outputs": []
    },
    {
      "cell_type": "code",
      "source": [
        "#plot\n",
        "plt.figure(figsize = (10,10))\n",
        "plt.scatter(t_sne_X[:,0], t_sne_X[:, 1])\n",
        "plt.show()"
      ],
      "metadata": {
        "colab": {
          "base_uri": "https://localhost:8080/",
          "height": 846
        },
        "id": "JpFts7Ms4V7m",
        "outputId": "95b5efe5-a56f-4686-a0ea-7f62efa660ea"
      },
      "execution_count": null,
      "outputs": [
        {
          "output_type": "display_data",
          "data": {
            "text/plain": [
              "<Figure size 1000x1000 with 1 Axes>"
            ],
            "image/png": "[encoded data removed]"
          },
          "metadata": {}
        }
      ]
    },
    {
      "cell_type": "code",
      "source": [],
      "metadata": {
        "id": "HDEe0MgUDEgu"
      },
      "execution_count": null,
      "outputs": []
    },
    {
      "cell_type": "markdown",
      "source": [
        "##кластеризация k-means"
      ],
      "metadata": {
        "id": "4JsPI2qWDFJ1"
      }
    },
    {
      "cell_type": "code",
      "source": [
        "criteria = [] #список для критерия разбиения на кластеры\n",
        "\n",
        "for i in range(2, 11):\n",
        "  km = KMeans(n_clusters = i, random_state = 42)\n",
        "  km.fit(t_sne_X) #здесь датасет\n",
        "  criteria.append(km.inertia_)\n",
        "  print('для {} кластеров, силуэт = {}'.format(i, silhouette_score(t_sne_X, km.labels_)))\n",
        "\n",
        "plt.figure(figsize = (10,5))\n",
        "plt.plot(range(2,11), criteria, marker = 's' )\n",
        "plt.xlabel('k')\n",
        "plt.ylabel('J')\n",
        "plt.show()"
      ],
      "metadata": {
        "colab": {
          "base_uri": "https://localhost:8080/",
          "height": 1000
        },
        "id": "XpqdXA0t7tJw",
        "outputId": "7f61dc73-edb3-48b1-90ca-145c1402ae7f"
      },
      "execution_count": null,
      "outputs": [
        {
          "output_type": "stream",
          "name": "stderr",
          "text": [
            "/usr/local/lib/python3.10/dist-packages/sklearn/cluster/_kmeans.py:870: FutureWarning: The default value of `n_init` will change from 10 to 'auto' in 1.4. Set the value of `n_init` explicitly to suppress the warning\n",
            "  warnings.warn(\n",
            "/usr/local/lib/python3.10/dist-packages/sklearn/cluster/_kmeans.py:870: FutureWarning: The default value of `n_init` will change from 10 to 'auto' in 1.4. Set the value of `n_init` explicitly to suppress the warning\n",
            "  warnings.warn(\n"
          ]
        },
        {
          "output_type": "stream",
          "name": "stdout",
          "text": [
            "для 2 кластеров, силуэт = 0.5716758966445923\n",
            "для 3 кластеров, силуэт = 0.6458303928375244\n",
            "для 4 кластеров, силуэт = 0.6074731349945068\n"
          ]
        },
        {
          "output_type": "stream",
          "name": "stderr",
          "text": [
            "/usr/local/lib/python3.10/dist-packages/sklearn/cluster/_kmeans.py:870: FutureWarning: The default value of `n_init` will change from 10 to 'auto' in 1.4. Set the value of `n_init` explicitly to suppress the warning\n",
            "  warnings.warn(\n",
            "/usr/local/lib/python3.10/dist-packages/sklearn/cluster/_kmeans.py:870: FutureWarning: The default value of `n_init` will change from 10 to 'auto' in 1.4. Set the value of `n_init` explicitly to suppress the warning\n",
            "  warnings.warn(\n"
          ]
        },
        {
          "output_type": "stream",
          "name": "stdout",
          "text": [
            "для 5 кластеров, силуэт = 0.5538555979728699\n"
          ]
        },
        {
          "output_type": "stream",
          "name": "stderr",
          "text": [
            "/usr/local/lib/python3.10/dist-packages/sklearn/cluster/_kmeans.py:870: FutureWarning: The default value of `n_init` will change from 10 to 'auto' in 1.4. Set the value of `n_init` explicitly to suppress the warning\n",
            "  warnings.warn(\n"
          ]
        },
        {
          "output_type": "stream",
          "name": "stdout",
          "text": [
            "для 6 кластеров, силуэт = 0.5643190145492554\n"
          ]
        },
        {
          "output_type": "stream",
          "name": "stderr",
          "text": [
            "/usr/local/lib/python3.10/dist-packages/sklearn/cluster/_kmeans.py:870: FutureWarning: The default value of `n_init` will change from 10 to 'auto' in 1.4. Set the value of `n_init` explicitly to suppress the warning\n",
            "  warnings.warn(\n"
          ]
        },
        {
          "output_type": "stream",
          "name": "stdout",
          "text": [
            "для 7 кластеров, силуэт = 0.6312221884727478\n",
            "для 8 кластеров, силуэт = 0.6895468831062317\n"
          ]
        },
        {
          "output_type": "stream",
          "name": "stderr",
          "text": [
            "/usr/local/lib/python3.10/dist-packages/sklearn/cluster/_kmeans.py:870: FutureWarning: The default value of `n_init` will change from 10 to 'auto' in 1.4. Set the value of `n_init` explicitly to suppress the warning\n",
            "  warnings.warn(\n",
            "/usr/local/lib/python3.10/dist-packages/sklearn/cluster/_kmeans.py:870: FutureWarning: The default value of `n_init` will change from 10 to 'auto' in 1.4. Set the value of `n_init` explicitly to suppress the warning\n",
            "  warnings.warn(\n"
          ]
        },
        {
          "output_type": "stream",
          "name": "stdout",
          "text": [
            "для 9 кластеров, силуэт = 0.6812055110931396\n"
          ]
        },
        {
          "output_type": "stream",
          "name": "stderr",
          "text": [
            "/usr/local/lib/python3.10/dist-packages/sklearn/cluster/_kmeans.py:870: FutureWarning: The default value of `n_init` will change from 10 to 'auto' in 1.4. Set the value of `n_init` explicitly to suppress the warning\n",
            "  warnings.warn(\n"
          ]
        },
        {
          "output_type": "stream",
          "name": "stdout",
          "text": [
            "для 10 кластеров, силуэт = 0.7648925185203552\n"
          ]
        },
        {
          "output_type": "display_data",
          "data": {
            "text/plain": [
              "<Figure size 1000x500 with 1 Axes>"
            ],
            "image/png": "[encoded data removed]"
          },
          "metadata": {}
        }
      ]
    },
    {
      "cell_type": "code",
      "source": [
        "km = KMeans(n_clusters = 3, random_state = 42)\n",
        "km.fit(t_sne_X) #здесь датасет\n",
        "x_ohe = utils.to_categorical(km.labels_, 3)\n",
        "print(x_ohe)"
      ],
      "metadata": {
        "colab": {
          "base_uri": "https://localhost:8080/"
        },
        "id": "WakUt_lcEXS1",
        "outputId": "873b71e6-c8c0-406c-c3ce-bc3eef3e008d"
      },
      "execution_count": null,
      "outputs": [
        {
          "output_type": "stream",
          "name": "stdout",
          "text": [
            "[[0. 1. 0.]\n",
            " [0. 1. 0.]\n",
            " [0. 1. 0.]\n",
            " [0. 1. 0.]\n",
            " [0. 1. 0.]\n",
            " [0. 1. 0.]\n",
            " [0. 1. 0.]\n",
            " [0. 1. 0.]\n",
            " [0. 1. 0.]\n",
            " [0. 1. 0.]\n",
            " [0. 1. 0.]\n",
            " [0. 1. 0.]\n",
            " [0. 1. 0.]\n",
            " [0. 1. 0.]\n",
            " [0. 1. 0.]\n",
            " [0. 1. 0.]\n",
            " [0. 1. 0.]\n",
            " [0. 1. 0.]\n",
            " [0. 1. 0.]\n",
            " [0. 1. 0.]\n",
            " [0. 1. 0.]\n",
            " [0. 1. 0.]\n",
            " [0. 1. 0.]\n",
            " [0. 1. 0.]\n",
            " [0. 0. 1.]\n",
            " [0. 0. 1.]\n",
            " [0. 0. 1.]\n",
            " [0. 0. 1.]\n",
            " [0. 1. 0.]\n",
            " [0. 1. 0.]\n",
            " [0. 1. 0.]\n",
            " [0. 1. 0.]\n",
            " [0. 0. 1.]\n",
            " [0. 0. 1.]\n",
            " [0. 0. 1.]\n",
            " [0. 0. 1.]\n",
            " [0. 0. 1.]\n",
            " [0. 0. 1.]\n",
            " [0. 0. 1.]\n",
            " [0. 0. 1.]\n",
            " [0. 1. 0.]\n",
            " [0. 1. 0.]\n",
            " [0. 1. 0.]\n",
            " [0. 1. 0.]\n",
            " [1. 0. 0.]\n",
            " [1. 0. 0.]\n",
            " [1. 0. 0.]\n",
            " [1. 0. 0.]\n",
            " [1. 0. 0.]\n",
            " [1. 0. 0.]\n",
            " [1. 0. 0.]\n",
            " [1. 0. 0.]\n",
            " [1. 0. 0.]\n",
            " [1. 0. 0.]\n",
            " [1. 0. 0.]\n",
            " [1. 0. 0.]\n",
            " [1. 0. 0.]\n",
            " [1. 0. 0.]\n",
            " [1. 0. 0.]\n",
            " [1. 0. 0.]\n",
            " [1. 0. 0.]\n",
            " [1. 0. 0.]\n",
            " [1. 0. 0.]\n",
            " [1. 0. 0.]\n",
            " [1. 0. 0.]\n",
            " [1. 0. 0.]\n",
            " [1. 0. 0.]\n",
            " [1. 0. 0.]\n",
            " [1. 0. 0.]\n",
            " [1. 0. 0.]\n",
            " [1. 0. 0.]\n",
            " [1. 0. 0.]]\n"
          ]
        },
        {
          "output_type": "stream",
          "name": "stderr",
          "text": [
            "/usr/local/lib/python3.10/dist-packages/sklearn/cluster/_kmeans.py:870: FutureWarning: The default value of `n_init` will change from 10 to 'auto' in 1.4. Set the value of `n_init` explicitly to suppress the warning\n",
            "  warnings.warn(\n"
          ]
        }
      ]
    },
    {
      "cell_type": "markdown",
      "source": [
        "##Подготовка выборки"
      ],
      "metadata": {
        "id": "axWFX8iV7ADk"
      }
    },
    {
      "cell_type": "markdown",
      "source": [
        "###Cоздаем таблицу результатов"
      ],
      "metadata": {
        "id": "h8Wdcmayd0eR"
      }
    },
    {
      "cell_type": "code",
      "source": [
        "#создаем таблицу результатов\n",
        "result_table = pd.DataFrame()\n",
        "result_table['Метрики'] = ['MAPE', 'MSE', 'MAE']"
      ],
      "metadata": {
        "id": "zLwMkM2pZRPs"
      },
      "execution_count": null,
      "outputs": []
    },
    {
      "cell_type": "markdown",
      "source": [
        "###Создаем X y"
      ],
      "metadata": {
        "id": "pwgPHMUP7mxV"
      }
    },
    {
      "cell_type": "code",
      "source": [
        "y = np.array(data[['Depth',\t'Width']])\n",
        "X = np.array(data[['IW',\t'IF',\t'VW',\t'FP']])\n",
        "#X1 = np.array(data[['IW',\t'IF',\t'VW',\t'FP']]) #при использовании тсне\n",
        "#X = np.column_stack((X1,t_sne_X,x_ohe))"
      ],
      "metadata": {
        "id": "Glmrca187plE"
      },
      "execution_count": null,
      "outputs": []
    },
    {
      "cell_type": "code",
      "source": [],
      "metadata": {
        "id": "0wTD5P0x8gcI"
      },
      "execution_count": null,
      "outputs": []
    },
    {
      "cell_type": "code",
      "source": [
        "X[1]"
      ],
      "metadata": {
        "colab": {
          "base_uri": "https://localhost:8080/"
        },
        "id": "9TJ8asUPN6-Q",
        "outputId": "dc3c8932-5679-4ad3-f7dd-549e57a6c577"
      },
      "execution_count": null,
      "outputs": [
        {
          "output_type": "execute_result",
          "data": {
            "text/plain": [
              "array([ 47. , 139. ,   4.5,  80. ])"
            ]
          },
          "metadata": {},
          "execution_count": 52
        }
      ]
    },
    {
      "cell_type": "code",
      "source": [
        "y[1]"
      ],
      "metadata": {
        "colab": {
          "base_uri": "https://localhost:8080/"
        },
        "id": "iBzTOxYPOM7C",
        "outputId": "01f1620c-4cca-473b-9af2-6d07f9171e96"
      },
      "execution_count": null,
      "outputs": [
        {
          "output_type": "execute_result",
          "data": {
            "text/plain": [
              "array([1.62, 2.5 ])"
            ]
          },
          "metadata": {},
          "execution_count": 53
        }
      ]
    },
    {
      "cell_type": "markdown",
      "source": [
        "###Масштабируем данные"
      ],
      "metadata": {
        "id": "G22-9Kk77C3S"
      }
    },
    {
      "cell_type": "code",
      "source": [
        "scaler = StandardScaler()\n",
        "scaler.fit(X) # pkl\n",
        "X_scaled = scaler.transform(X)"
      ],
      "metadata": {
        "id": "PRLS5LzB6_aX"
      },
      "execution_count": null,
      "outputs": []
    },
    {
      "cell_type": "markdown",
      "source": [
        "###train test split"
      ],
      "metadata": {
        "id": "LaEhURFG8lhz"
      }
    },
    {
      "cell_type": "code",
      "source": [
        "X_train, X_test, y_train, y_test = train_test_split(X_scaled, y,\n",
        "                                                    test_size = 0.2,\n",
        "                                                    shuffle = True,\n",
        "                                                    random_state = 42)"
      ],
      "metadata": {
        "id": "eI3ZRLhY8qLr"
      },
      "execution_count": null,
      "outputs": []
    },
    {
      "cell_type": "code",
      "source": [
        "print(X_train.shape)\n",
        "print(y_train.shape)\n",
        "print(X_test.shape)\n",
        "print(y_test.shape)"
      ],
      "metadata": {
        "colab": {
          "base_uri": "https://localhost:8080/"
        },
        "id": "1pgludDs89hA",
        "outputId": "833482ba-49c7-4f35-944e-ee4e9f114846"
      },
      "execution_count": null,
      "outputs": [
        {
          "output_type": "stream",
          "name": "stdout",
          "text": [
            "(57, 4)\n",
            "(57, 2)\n",
            "(15, 4)\n",
            "(15, 2)\n"
          ]
        }
      ]
    },
    {
      "cell_type": "markdown",
      "source": [
        "#ML"
      ],
      "metadata": {
        "id": "2NevByPF61RQ"
      }
    },
    {
      "cell_type": "markdown",
      "source": [
        "##RandomForestRegressor"
      ],
      "metadata": {
        "id": "SF1a04AbRG3G"
      }
    },
    {
      "cell_type": "code",
      "source": [
        "rf =  RandomForestRegressor(random_state=42)\n",
        "rf.fit(X_train, y_train)\n"
      ],
      "metadata": {
        "id": "WEzcYqvBRGVN",
        "colab": {
          "base_uri": "https://localhost:8080/",
          "height": 74
        },
        "outputId": "f7b00fc4-bfcb-413f-cb25-a0cc17795d75"
      },
      "execution_count": null,
      "outputs": [
        {
          "output_type": "execute_result",
          "data": {
            "text/plain": [
              "RandomForestRegressor(random_state=42)"
            ],
            "text/html": [
              "<style>#sk-container-id-2 {color: black;background-color: white;}#sk-container-id-2 pre{padding: 0;}#sk-container-id-2 div.sk-toggleable {background-color: white;}#sk-container-id-2 label.sk-toggleable__label {cursor: pointer;display: block;width: 100%;margin-bottom: 0;padding: 0.3em;box-sizing: border-box;text-align: center;}#sk-container-id-2 label.sk-toggleable__label-arrow:before {content: \"▸\";float: left;margin-right: 0.25em;color: #696969;}#sk-container-id-2 label.sk-toggleable__label-arrow:hover:before {color: black;}#sk-container-id-2 div.sk-estimator:hover label.sk-toggleable__label-arrow:before {color: black;}#sk-container-id-2 div.sk-toggleable__content {max-height: 0;max-width: 0;overflow: hidden;text-align: left;background-color: #f0f8ff;}#sk-container-id-2 div.sk-toggleable__content pre {margin: 0.2em;color: black;border-radius: 0.25em;background-color: #f0f8ff;}#sk-container-id-2 input.sk-toggleable__control:checked~div.sk-toggleable__content {max-height: 200px;max-width: 100%;overflow: auto;}#sk-container-id-2 input.sk-toggleable__control:checked~label.sk-toggleable__label-arrow:before {content: \"▾\";}#sk-container-id-2 div.sk-estimator input.sk-toggleable__control:checked~label.sk-toggleable__label {background-color: #d4ebff;}#sk-container-id-2 div.sk-label input.sk-toggleable__control:checked~label.sk-toggleable__label {background-color: #d4ebff;}#sk-container-id-2 input.sk-hidden--visually {border: 0;clip: rect(1px 1px 1px 1px);clip: rect(1px, 1px, 1px, 1px);height: 1px;margin: -1px;overflow: hidden;padding: 0;position: absolute;width: 1px;}#sk-container-id-2 div.sk-estimator {font-family: monospace;background-color: #f0f8ff;border: 1px dotted black;border-radius: 0.25em;box-sizing: border-box;margin-bottom: 0.5em;}#sk-container-id-2 div.sk-estimator:hover {background-color: #d4ebff;}#sk-container-id-2 div.sk-parallel-item::after {content: \"\";width: 100%;border-bottom: 1px solid gray;flex-grow: 1;}#sk-container-id-2 div.sk-label:hover label.sk-toggleable__label {background-color: #d4ebff;}#sk-container-id-2 div.sk-serial::before {content: \"\";position: absolute;border-left: 1px solid gray;box-sizing: border-box;top: 0;bottom: 0;left: 50%;z-index: 0;}#sk-container-id-2 div.sk-serial {display: flex;flex-direction: column;align-items: center;background-color: white;padding-right: 0.2em;padding-left: 0.2em;position: relative;}#sk-container-id-2 div.sk-item {position: relative;z-index: 1;}#sk-container-id-2 div.sk-parallel {display: flex;align-items: stretch;justify-content: center;background-color: white;position: relative;}#sk-container-id-2 div.sk-item::before, #sk-container-id-2 div.sk-parallel-item::before {content: \"\";position: absolute;border-left: 1px solid gray;box-sizing: border-box;top: 0;bottom: 0;left: 50%;z-index: -1;}#sk-container-id-2 div.sk-parallel-item {display: flex;flex-direction: column;z-index: 1;position: relative;background-color: white;}#sk-container-id-2 div.sk-parallel-item:first-child::after {align-self: flex-end;width: 50%;}#sk-container-id-2 div.sk-parallel-item:last-child::after {align-self: flex-start;width: 50%;}#sk-container-id-2 div.sk-parallel-item:only-child::after {width: 0;}#sk-container-id-2 div.sk-dashed-wrapped {border: 1px dashed gray;margin: 0 0.4em 0.5em 0.4em;box-sizing: border-box;padding-bottom: 0.4em;background-color: white;}#sk-container-id-2 div.sk-label label {font-family: monospace;font-weight: bold;display: inline-block;line-height: 1.2em;}#sk-container-id-2 div.sk-label-container {text-align: center;}#sk-container-id-2 div.sk-container {/* jupyter's `normalize.less` sets `[hidden] { display: none; }` but bootstrap.min.css set `[hidden] { display: none !important; }` so we also need the `!important` here to be able to override the default hidden behavior on the sphinx rendered scikit-learn.org. See: https://github.com/scikit-learn/scikit-learn/issues/21755 */display: inline-block !important;position: relative;}#sk-container-id-2 div.sk-text-repr-fallback {display: none;}</style><div id=\"sk-container-id-2\" class=\"sk-top-container\"><div class=\"sk-text-repr-fallback\"><pre>RandomForestRegressor(random_state=42)</pre><b>In a Jupyter environment, please rerun this cell to show the HTML representation or trust the notebook. <br />On GitHub, the HTML representation is unable to render, please try loading this page with nbviewer.org.</b></div><div class=\"sk-container\" hidden><div class=\"sk-item\"><div class=\"sk-estimator sk-toggleable\"><input class=\"sk-toggleable__control sk-hidden--visually\" id=\"sk-estimator-id-2\" type=\"checkbox\" checked><label for=\"sk-estimator-id-2\" class=\"sk-toggleable__label sk-toggleable__label-arrow\">RandomForestRegressor</label><div class=\"sk-toggleable__content\"><pre>RandomForestRegressor(random_state=42)</pre></div></div></div></div></div>"
            ]
          },
          "metadata": {},
          "execution_count": 57
        }
      ]
    },
    {
      "cell_type": "code",
      "source": [
        "y_pred = rf.predict(X_test).round(2)\n",
        "print(mean_absolute_percentage_error(y_test, y_pred))\n",
        "print(mean_squared_error(y_test, y_pred))\n",
        "print(mean_absolute_error(y_test, y_pred))\n",
        "result_table['RandomForest'] = mean_absolute_percentage_error(y_test, y_pred), mean_squared_error(y_test, y_pred), mean_absolute_error(y_test, y_pred)"
      ],
      "metadata": {
        "colab": {
          "base_uri": "https://localhost:8080/"
        },
        "id": "p168UvveV6t3",
        "outputId": "5ef15fe6-c332-4007-8a19-791fab1b646c"
      },
      "execution_count": null,
      "outputs": [
        {
          "output_type": "stream",
          "name": "stdout",
          "text": [
            "0.032044722716945744\n",
            "0.004389999999999996\n",
            "0.04766666666666665\n"
          ]
        }
      ]
    },
    {
      "cell_type": "code",
      "source": [
        "rf.feature_importances_"
      ],
      "metadata": {
        "colab": {
          "base_uri": "https://localhost:8080/"
        },
        "id": "RIBb4fHacm2h",
        "outputId": "5458048e-afba-4b1b-8673-4dbd23246a0f"
      },
      "execution_count": null,
      "outputs": [
        {
          "output_type": "execute_result",
          "data": {
            "text/plain": [
              "array([0.04157222, 0.21855519, 0.62390098, 0.11597161])"
            ]
          },
          "metadata": {},
          "execution_count": 59
        }
      ]
    },
    {
      "cell_type": "code",
      "source": [
        "#важность признаков\n",
        "feats = {}\n",
        "for feature, importance in zip(data.columns, rf.feature_importances_):\n",
        "    feats[feature] = importance\n",
        "importances = pd.DataFrame.from_dict(feats, orient='index').rename(columns={0: 'Gini-Importance'})\n",
        "importances = importances.sort_values(by='Gini-Importance', ascending=False)\n",
        "importances = importances.reset_index()\n",
        "importances = importances.rename(columns={'index': 'Features'})\n",
        "sns.set(font_scale = 5)\n",
        "sns.set(style=\"whitegrid\", color_codes=True, font_scale = 1.7)\n",
        "fig, ax = plt.subplots()\n",
        "fig.set_size_inches(15,10)\n",
        "sns.barplot(x=importances['Gini-Importance'], y=importances['Features'], data=importances, color='skyblue')\n",
        "plt.xlabel('Importance', fontsize=25, weight = 'bold')\n",
        "plt.ylabel('Features', fontsize=25, weight = 'bold')\n",
        "plt.title('Feature Importance', fontsize=25, weight = 'bold')\n",
        "display(plt.show())\n",
        "display(importances)"
      ],
      "metadata": {
        "colab": {
          "base_uri": "https://localhost:8080/",
          "height": 1000
        },
        "id": "MXXq1sp1cULI",
        "outputId": "2b9acd2a-fe39-4d2a-d6ed-ec74388c6795"
      },
      "execution_count": null,
      "outputs": [
        {
          "output_type": "display_data",
          "data": {
            "text/plain": [
              "<Figure size 1500x1000 with 1 Axes>"
            ],
            "image/png": "[encoded data removed]"
          },
          "metadata": {}
        },
        {
          "output_type": "display_data",
          "data": {
            "text/plain": [
              "None"
            ]
          },
          "metadata": {}
        },
        {
          "output_type": "display_data",
          "data": {
            "text/plain": [
              "  Features  Gini-Importance\n",
              "0       VW         0.623901\n",
              "1       IF         0.218555\n",
              "2       FP         0.115972\n",
              "3       IW         0.041572"
            ],
            "text/html": [
              "\n",
              "  <div id=\"df-6b14be24-cb2e-4dd0-b139-0b523b5b2b0e\">\n",
              "    <div class=\"colab-df-container\">\n",
              "      <div>\n",
              "<style scoped>\n",
              "    .dataframe tbody tr th:only-of-type {\n",
              "        vertical-align: middle;\n",
              "    }\n",
              "\n",
              "    .dataframe tbody tr th {\n",
              "        vertical-align: top;\n",
              "    }\n",
              "\n",
              "    .dataframe thead th {\n",
              "        text-align: right;\n",
              "    }\n",
              "</style>\n",
              "<table border=\"1\" class=\"dataframe\">\n",
              "  <thead>\n",
              "    <tr style=\"text-align: right;\">\n",
              "      <th></th>\n",
              "      <th>Features</th>\n",
              "      <th>Gini-Importance</th>\n",
              "    </tr>\n",
              "  </thead>\n",
              "  <tbody>\n",
              "    <tr>\n",
              "      <th>0</th>\n",
              "      <td>VW</td>\n",
              "      <td>0.623901</td>\n",
              "    </tr>\n",
              "    <tr>\n",
              "      <th>1</th>\n",
              "      <td>IF</td>\n",
              "      <td>0.218555</td>\n",
              "    </tr>\n",
              "    <tr>\n",
              "      <th>2</th>\n",
              "      <td>FP</td>\n",
              "      <td>0.115972</td>\n",
              "    </tr>\n",
              "    <tr>\n",
              "      <th>3</th>\n",
              "      <td>IW</td>\n",
              "      <td>0.041572</td>\n",
              "    </tr>\n",
              "  </tbody>\n",
              "</table>\n",
              "</div>\n",
              "      <button class=\"colab-df-convert\" onclick=\"convertToInteractive('df-6b14be24-cb2e-4dd0-b139-0b523b5b2b0e')\"\n",
              "              title=\"Convert this dataframe to an interactive table.\"\n",
              "              style=\"display:none;\">\n",
              "        \n",
              "  <svg xmlns=\"http://www.w3.org/2000/svg\" height=\"24px\"viewBox=\"0 0 24 24\"\n",
              "       width=\"24px\">\n",
              "    <path d=\"M0 0h24v24H0V0z\" fill=\"none\"/>\n",
              "    <path d=\"M18.56 5.44l.94 2.06.94-2.06 2.06-.94-2.06-.94-.94-2.06-.94 2.06-2.06.94zm-11 1L8.5 8.5l.94-2.06 2.06-.94-2.06-.94L8.5 2.5l-.94 2.06-2.06.94zm10 10l.94 2.06.94-2.06 2.06-.94-2.06-.94-.94-2.06-.94 2.06-2.06.94z\"/><path d=\"M17.41 7.96l-1.37-1.37c-.4-.4-.92-.59-1.43-.59-.52 0-1.04.2-1.43.59L10.3 9.45l-7.72 7.72c-.78.78-.78 2.05 0 2.83L4 21.41c.39.39.9.59 1.41.59.51 0 1.02-.2 1.41-.59l7.78-7.78 2.81-2.81c.8-.78.8-2.07 0-2.86zM5.41 20L4 18.59l7.72-7.72 1.47 1.35L5.41 20z\"/>\n",
              "  </svg>\n",
              "      </button>\n",
              "      \n",
              "  <style>\n",
              "    .colab-df-container {\n",
              "      display:flex;\n",
              "      flex-wrap:wrap;\n",
              "      gap: 12px;\n",
              "    }\n",
              "\n",
              "    .colab-df-convert {\n",
              "      background-color: #E8F0FE;\n",
              "      border: none;\n",
              "      border-radius: 50%;\n",
              "      cursor: pointer;\n",
              "      display: none;\n",
              "      fill: #1967D2;\n",
              "      height: 32px;\n",
              "      padding: 0 0 0 0;\n",
              "      width: 32px;\n",
              "    }\n",
              "\n",
              "    .colab-df-convert:hover {\n",
              "      background-color: #E2EBFA;\n",
              "      box-shadow: 0px 1px 2px rgba(60, 64, 67, 0.3), 0px 1px 3px 1px rgba(60, 64, 67, 0.15);\n",
              "      fill: #174EA6;\n",
              "    }\n",
              "\n",
              "    [theme=dark] .colab-df-convert {\n",
              "      background-color: #3B4455;\n",
              "      fill: #D2E3FC;\n",
              "    }\n",
              "\n",
              "    [theme=dark] .colab-df-convert:hover {\n",
              "      background-color: #434B5C;\n",
              "      box-shadow: 0px 1px 3px 1px rgba(0, 0, 0, 0.15);\n",
              "      filter: drop-shadow(0px 1px 2px rgba(0, 0, 0, 0.3));\n",
              "      fill: #FFFFFF;\n",
              "    }\n",
              "  </style>\n",
              "\n",
              "      <script>\n",
              "        const buttonEl =\n",
              "          document.querySelector('#df-6b14be24-cb2e-4dd0-b139-0b523b5b2b0e button.colab-df-convert');\n",
              "        buttonEl.style.display =\n",
              "          google.colab.kernel.accessAllowed ? 'block' : 'none';\n",
              "\n",
              "        async function convertToInteractive(key) {\n",
              "          const element = document.querySelector('#df-6b14be24-cb2e-4dd0-b139-0b523b5b2b0e');\n",
              "          const dataTable =\n",
              "            await google.colab.kernel.invokeFunction('convertToInteractive',\n",
              "                                                     [key], {});\n",
              "          if (!dataTable) return;\n",
              "\n",
              "          const docLinkHtml = 'Like what you see? Visit the ' +\n",
              "            '<a target=\"_blank\" href=https://colab.research.google.com/notebooks/data_table.ipynb>data table notebook</a>'\n",
              "            + ' to learn more about interactive tables.';\n",
              "          element.innerHTML = '';\n",
              "          dataTable['output_type'] = 'display_data';\n",
              "          await google.colab.output.renderOutput(dataTable, element);\n",
              "          const docLink = document.createElement('div');\n",
              "          docLink.innerHTML = docLinkHtml;\n",
              "          element.appendChild(docLink);\n",
              "        }\n",
              "      </script>\n",
              "    </div>\n",
              "  </div>\n",
              "  "
            ]
          },
          "metadata": {}
        }
      ]
    },
    {
      "cell_type": "markdown",
      "source": [
        "##Linear regression"
      ],
      "metadata": {
        "id": "aZRr2fhN637z"
      }
    },
    {
      "cell_type": "code",
      "source": [
        "lr = LinearRegression()\n",
        "#параметры сетки\n",
        "param_grid = {'copy_X' : [True, False]}\n",
        "lr_grid = GridSearchCV(lr,\n",
        "                       param_grid = param_grid,\n",
        "                       cv = 5)\n",
        "#обучаем сетку\n",
        "lr_grid.fit(X_train, y_train)\n",
        "print(f'Лучшие параметры : {lr_grid.best_params_}')\n",
        "print(f'ЛУчшая точность : {lr_grid.best_score_}')"
      ],
      "metadata": {
        "colab": {
          "base_uri": "https://localhost:8080/"
        },
        "id": "UB4_2H1P62xl",
        "outputId": "b4560fab-6821-4683-cfd3-0d2ecdb777c7"
      },
      "execution_count": null,
      "outputs": [
        {
          "output_type": "stream",
          "name": "stdout",
          "text": [
            "Лучшие параметры : {'copy_X': True}\n",
            "ЛУчшая точность : 0.8565562329962735\n"
          ]
        }
      ]
    },
    {
      "cell_type": "code",
      "source": [
        "lr_grid.predict(X_test[:7]).round(2)"
      ],
      "metadata": {
        "colab": {
          "base_uri": "https://localhost:8080/"
        },
        "id": "omjuBYGeAMJK",
        "outputId": "bae2f934-03e7-417b-e55b-a898450ecc82"
      },
      "execution_count": null,
      "outputs": [
        {
          "output_type": "execute_result",
          "data": {
            "text/plain": [
              "array([[1.44, 2.44],\n",
              "       [1.21, 1.79],\n",
              "       [1.12, 1.83],\n",
              "       [1.57, 2.49],\n",
              "       [1.57, 2.49],\n",
              "       [1.23, 1.82],\n",
              "       [1.27, 2.04]])"
            ]
          },
          "metadata": {},
          "execution_count": 62
        }
      ]
    },
    {
      "cell_type": "markdown",
      "source": [
        "###Metrics"
      ],
      "metadata": {
        "id": "pDYEtCnWA1u1"
      }
    },
    {
      "cell_type": "code",
      "source": [
        "y_pred = lr_grid.predict(X_test).round(2)\n",
        "print(mean_absolute_percentage_error(y_test, y_pred))\n",
        "print(mean_squared_error(y_test, y_pred))\n",
        "print(mean_absolute_error(y_test, y_pred))\n",
        "result_table['Линейная регрессия'] = mean_absolute_percentage_error(y_test, y_pred), mean_squared_error(y_test, y_pred), mean_absolute_error(y_test, y_pred)"
      ],
      "metadata": {
        "colab": {
          "base_uri": "https://localhost:8080/"
        },
        "id": "sbZ1Ea-eAwSL",
        "outputId": "4caf3171-6a1d-4731-de19-d017e16fdfd6"
      },
      "execution_count": null,
      "outputs": [
        {
          "output_type": "stream",
          "name": "stdout",
          "text": [
            "0.05224210686583918\n",
            "0.01215666666666667\n",
            "0.07766666666666668\n"
          ]
        }
      ]
    },
    {
      "cell_type": "code",
      "source": [
        "y_pred"
      ],
      "metadata": {
        "colab": {
          "base_uri": "https://localhost:8080/"
        },
        "id": "0RR-BTZqZfE5",
        "outputId": "ac37a12e-9388-45b5-da99-75587889e29d"
      },
      "execution_count": null,
      "outputs": [
        {
          "output_type": "execute_result",
          "data": {
            "text/plain": [
              "array([[1.44, 2.44],\n",
              "       [1.21, 1.79],\n",
              "       [1.12, 1.83],\n",
              "       [1.57, 2.49],\n",
              "       [1.57, 2.49],\n",
              "       [1.23, 1.82],\n",
              "       [1.27, 2.04],\n",
              "       [0.81, 2.05],\n",
              "       [1.09, 1.8 ],\n",
              "       [1.15, 1.75],\n",
              "       [1.24, 1.75],\n",
              "       [1.57, 2.49],\n",
              "       [1.27, 2.04],\n",
              "       [1.24, 1.75],\n",
              "       [1.44, 2.44]])"
            ]
          },
          "metadata": {},
          "execution_count": 64
        }
      ]
    },
    {
      "cell_type": "markdown",
      "source": [
        "##kNN regressor"
      ],
      "metadata": {
        "id": "FztQJVnlBr-B"
      }
    },
    {
      "cell_type": "code",
      "source": [
        "kNNr = KNeighborsRegressor()\n",
        "#параметры сетки\n",
        "param_grid = {'n_neighbors' : [4, 6, 10, 13]}\n",
        "kNNr_grid = GridSearchCV(kNNr,\n",
        "                       param_grid = param_grid,\n",
        "                       cv = 5)\n",
        "#обучаем сетку\n",
        "kNNr_grid.fit(X_train, y_train)\n",
        "print(f'Лучшие параметры : {kNNr_grid.best_params_}')\n",
        "print(f'ЛУчшая точность : {kNNr_grid.best_score_}')"
      ],
      "metadata": {
        "colab": {
          "base_uri": "https://localhost:8080/"
        },
        "id": "nhG6LOdGBv7S",
        "outputId": "19fad406-8490-4e6b-bc51-4eec3c0f4488"
      },
      "execution_count": null,
      "outputs": [
        {
          "output_type": "stream",
          "name": "stdout",
          "text": [
            "Лучшие параметры : {'n_neighbors': 4}\n",
            "ЛУчшая точность : 0.883137968104901\n"
          ]
        }
      ]
    },
    {
      "cell_type": "markdown",
      "source": [
        "###Metrics"
      ],
      "metadata": {
        "id": "oTy_mdCADRZu"
      }
    },
    {
      "cell_type": "code",
      "source": [
        "y_pred = kNNr_grid.predict(X_test).round(2)\n",
        "print(mean_absolute_percentage_error(y_test, y_pred))\n",
        "print(mean_squared_error(y_test, y_pred))\n",
        "print(mean_absolute_error(y_test, y_pred))\n",
        "result_table['Ближайших соседей'] = mean_absolute_percentage_error(y_test, y_pred), mean_squared_error(y_test, y_pred), mean_absolute_error(y_test, y_pred)"
      ],
      "metadata": {
        "colab": {
          "base_uri": "https://localhost:8080/"
        },
        "id": "0U6sqLbQCpIK",
        "outputId": "9f29eae7-db73-4219-8f28-591cdcd81c08"
      },
      "execution_count": null,
      "outputs": [
        {
          "output_type": "stream",
          "name": "stdout",
          "text": [
            "0.040000342997495525\n",
            "0.00581333333333333\n",
            "0.059333333333333335\n"
          ]
        }
      ]
    },
    {
      "cell_type": "code",
      "source": [],
      "metadata": {
        "id": "77-ys5d4acDD"
      },
      "execution_count": null,
      "outputs": []
    },
    {
      "cell_type": "code",
      "source": [
        "y_pred[:7]\n"
      ],
      "metadata": {
        "colab": {
          "base_uri": "https://localhost:8080/"
        },
        "id": "r9ZWl6GmC0ML",
        "outputId": "bb6c49c6-1512-4b15-bc8f-f063a1de21e6"
      },
      "execution_count": null,
      "outputs": [
        {
          "output_type": "execute_result",
          "data": {
            "text/plain": [
              "array([[1.56, 2.52],\n",
              "       [1.25, 1.8 ],\n",
              "       [1.1 , 1.82],\n",
              "       [1.49, 2.5 ],\n",
              "       [1.49, 2.5 ],\n",
              "       [1.23, 1.81],\n",
              "       [1.1 , 1.92]])"
            ]
          },
          "metadata": {},
          "execution_count": 67
        }
      ]
    },
    {
      "cell_type": "code",
      "source": [
        "y_test[:7]"
      ],
      "metadata": {
        "colab": {
          "base_uri": "https://localhost:8080/"
        },
        "id": "cly44xfuC3so",
        "outputId": "842e70b6-efcd-49af-95b5-ec7c90d4fe0a"
      },
      "execution_count": null,
      "outputs": [
        {
          "output_type": "execute_result",
          "data": {
            "text/plain": [
              "array([[1.76, 2.48],\n",
              "       [1.2 , 1.72],\n",
              "       [1.2 , 1.86],\n",
              "       [1.6 , 2.54],\n",
              "       [1.36, 2.52],\n",
              "       [1.24, 1.8 ],\n",
              "       [1.16, 1.96]])"
            ]
          },
          "metadata": {},
          "execution_count": 68
        }
      ]
    },
    {
      "cell_type": "markdown",
      "source": [
        "##Нейронная сеть"
      ],
      "metadata": {
        "id": "6gY2sdNKTzBv"
      }
    },
    {
      "cell_type": "code",
      "source": [
        "#создаем архитектуру нейронной сети\n",
        "model = Sequential()\n",
        "#model.add(BatchNormalization()) #отдельная номрализация именно батча\n",
        "\n",
        "model.add(tf.keras.Input(shape = (X_train.shape[1], ))) #входная размерность\n",
        "model.add(Dense(57, activation = 'relu'))#входной слой 57 нейронов\n",
        "\n",
        "#model.add(BatchNormalization()) #отдельная номрализация именно батча\n",
        "\n",
        "model.add(Dense(57, activation = 'relu'))#скрытый слой 57\n",
        "#model.add(Dropout(0.33)) #случайным образом убираем нейроны в слое\n",
        "\n",
        "model.add(Dense(57, activation = 'relu'))#скрытый слой\n",
        "\n",
        "model.add(Dense(y.shape[1], activation = 'linear'))#выходной слой должен содержать кол-во нейронов по числу классов в Y\n",
        "\n",
        "#компилируем нейронную сети\n",
        "model.compile(loss= 'mae', #ошибка\n",
        "              optimizer = 'adam', #градиентный спуск\n",
        "              metrics = ['mae'])#метрика\n",
        "\n",
        "#Early stopping - останавливает обучение, после того, как ошибка последовательно растет n эпох\n",
        "es = EarlyStopping(monitor = 'val_loss',\n",
        "                   mode = 'min',\n",
        "                   patience = 10,\n",
        "                   verbose = 1)\n",
        "\n",
        "#обучаем нейронную сеть\n",
        "history = model.fit(X_train, y_train,\n",
        "          batch_size = 15, #сколько объектов пожается за разх в нейронку\n",
        "          epochs = 20,  #сколько циклов по выборке пройдет нейронка\n",
        "          validation_data = (X_test, y_test),\n",
        "          verbose = 1,\n",
        "          callbacks = [es] )#визуализация процесса обучения\n",
        "\n",
        "#визуализация обучения нейронки\n",
        "plt.plot(history.history['loss'],\n",
        "         label = 'Доля ошибкаи на обучающей выборке')\n",
        "plt.plot(history.history['val_loss'],\n",
        "         label = 'Доля ошибкаи на проверочной выборке')\n",
        "plt.xlabel('Эпохи обучения')\n",
        "plt.ylabel('Значение ошибки')\n",
        "plt.legend()\n",
        "plt.show()"
      ],
      "metadata": {
        "colab": {
          "base_uri": "https://localhost:8080/",
          "height": 1000
        },
        "id": "m8KHX5p6T2ks",
        "outputId": "2c3bc7d8-bdf5-49d4-f6bf-ab5c1a2a8b4f"
      },
      "execution_count": null,
      "outputs": [
        {
          "output_type": "stream",
          "name": "stdout",
          "text": [
            "Epoch 1/20\n",
            "4/4 [==============================] - 7s 70ms/step - loss: 1.4914 - mae: 1.4914 - val_loss: 1.5190 - val_mae: 1.5190\n",
            "Epoch 2/20\n",
            "4/4 [==============================] - 0s 11ms/step - loss: 1.3657 - mae: 1.3657 - val_loss: 1.4041 - val_mae: 1.4041\n",
            "Epoch 3/20\n",
            "4/4 [==============================] - 0s 11ms/step - loss: 1.2488 - mae: 1.2488 - val_loss: 1.2751 - val_mae: 1.2751\n",
            "Epoch 4/20\n",
            "4/4 [==============================] - 0s 11ms/step - loss: 1.1155 - mae: 1.1155 - val_loss: 1.1255 - val_mae: 1.1255\n",
            "Epoch 5/20\n",
            "4/4 [==============================] - 0s 14ms/step - loss: 0.9773 - mae: 0.9773 - val_loss: 0.9673 - val_mae: 0.9673\n",
            "Epoch 6/20\n",
            "4/4 [==============================] - 0s 11ms/step - loss: 0.8175 - mae: 0.8175 - val_loss: 0.7909 - val_mae: 0.7909\n",
            "Epoch 7/20\n",
            "4/4 [==============================] - 0s 11ms/step - loss: 0.6402 - mae: 0.6402 - val_loss: 0.6244 - val_mae: 0.6244\n",
            "Epoch 8/20\n",
            "4/4 [==============================] - 0s 11ms/step - loss: 0.5316 - mae: 0.5316 - val_loss: 0.5302 - val_mae: 0.5302\n",
            "Epoch 9/20\n",
            "4/4 [==============================] - 0s 11ms/step - loss: 0.4787 - mae: 0.4787 - val_loss: 0.4648 - val_mae: 0.4648\n",
            "Epoch 10/20\n",
            "4/4 [==============================] - 0s 11ms/step - loss: 0.4303 - mae: 0.4303 - val_loss: 0.4315 - val_mae: 0.4315\n",
            "Epoch 11/20\n",
            "4/4 [==============================] - 0s 12ms/step - loss: 0.3762 - mae: 0.3762 - val_loss: 0.3997 - val_mae: 0.3997\n",
            "Epoch 12/20\n",
            "4/4 [==============================] - 0s 11ms/step - loss: 0.3253 - mae: 0.3253 - val_loss: 0.3712 - val_mae: 0.3712\n",
            "Epoch 13/20\n",
            "4/4 [==============================] - 0s 11ms/step - loss: 0.2885 - mae: 0.2885 - val_loss: 0.3353 - val_mae: 0.3353\n",
            "Epoch 14/20\n",
            "4/4 [==============================] - 0s 12ms/step - loss: 0.2581 - mae: 0.2581 - val_loss: 0.3032 - val_mae: 0.3032\n",
            "Epoch 15/20\n",
            "4/4 [==============================] - 0s 11ms/step - loss: 0.2349 - mae: 0.2349 - val_loss: 0.2843 - val_mae: 0.2843\n",
            "Epoch 16/20\n",
            "4/4 [==============================] - 0s 11ms/step - loss: 0.2191 - mae: 0.2191 - val_loss: 0.2671 - val_mae: 0.2671\n",
            "Epoch 17/20\n",
            "4/4 [==============================] - 0s 11ms/step - loss: 0.2092 - mae: 0.2092 - val_loss: 0.2584 - val_mae: 0.2584\n",
            "Epoch 18/20\n",
            "4/4 [==============================] - 0s 11ms/step - loss: 0.1937 - mae: 0.1937 - val_loss: 0.2570 - val_mae: 0.2570\n",
            "Epoch 19/20\n",
            "4/4 [==============================] - 0s 11ms/step - loss: 0.1836 - mae: 0.1836 - val_loss: 0.2462 - val_mae: 0.2462\n",
            "Epoch 20/20\n",
            "4/4 [==============================] - 0s 15ms/step - loss: 0.1798 - mae: 0.1798 - val_loss: 0.2340 - val_mae: 0.2340\n"
          ]
        },
        {
          "output_type": "display_data",
          "data": {
            "text/plain": [
              "<Figure size 640x480 with 1 Axes>"
            ],
            "image/png": "[encoded data removed]"
          },
          "metadata": {}
        }
      ]
    },
    {
      "cell_type": "markdown",
      "source": [
        "###Metrics"
      ],
      "metadata": {
        "id": "PBMbbjnEdsBh"
      }
    },
    {
      "cell_type": "code",
      "source": [
        "#прогноз\n",
        "y_pred = model.predict(X_test).round(2)\n",
        "print(mean_absolute_percentage_error(y_test, y_pred))\n",
        "print(mean_squared_error(y_test, y_pred))\n",
        "print(mean_absolute_error(y_test, y_pred))\n",
        "result_table['Нейронная сеть'] = mean_absolute_percentage_error(y_test, y_pred), mean_squared_error(y_test, y_pred), mean_absolute_error(y_test, y_pred)"
      ],
      "metadata": {
        "colab": {
          "base_uri": "https://localhost:8080/"
        },
        "id": "sQDIwnJUYJXk",
        "outputId": "8a480eb8-b456-4c89-ad72-1c884d41f7d8"
      },
      "execution_count": null,
      "outputs": [
        {
          "output_type": "stream",
          "name": "stdout",
          "text": [
            "1/1 [==============================] - 0s 86ms/step\n",
            "0.1495720544463643\n",
            "0.10797665512085142\n",
            "0.23366665522257485\n"
          ]
        }
      ]
    },
    {
      "cell_type": "markdown",
      "source": [
        "#Результирующая таблица"
      ],
      "metadata": {
        "id": "tZgjnEBTdhsM"
      }
    },
    {
      "cell_type": "code",
      "source": [
        "#Результирующая таблица\n",
        "print(result_table)"
      ],
      "metadata": {
        "colab": {
          "base_uri": "https://localhost:8080/"
        },
        "id": "9CehoiRPahNu",
        "outputId": "66592389-5bb6-455b-c958-9edcda608195"
      },
      "execution_count": null,
      "outputs": [
        {
          "output_type": "stream",
          "name": "stdout",
          "text": [
            "  Метрики  RandomForest  Линейная регрессия  Ближайших соседей  Нейронная сеть\n",
            "0    MAPE      0.032045            0.052242           0.040000        0.149572\n",
            "1     MSE      0.004390            0.012157           0.005813        0.107977\n",
            "2     MAE      0.047667            0.077667           0.059333        0.233667\n"
          ]
        }
      ]
    },
    {
      "cell_type": "markdown",
      "source": [
        "#Вывод:"
      ],
      "metadata": {
        "id": "uaWqpJ1ucp5r"
      }
    },
    {
      "cell_type": "markdown",
      "source": [
        "##Меньше всего дает ошибку метод Случайный лес. Его и будем использовать в качестве модели для прогноза. Для нейронной сети слишком мало данных, чтобы качественно её обучить."
      ],
      "metadata": {
        "id": "i2ycCtujdZoV"
      }
    },
    {
      "cell_type": "code",
      "source": [],
      "metadata": {
        "id": "GN445omedAOA"
      },
      "execution_count": null,
      "outputs": []
    },
    {
      "cell_type": "code",
      "source": [],
      "metadata": {
        "id": "MK1me9xpzR8R"
      },
      "execution_count": null,
      "outputs": []
    },
    {
      "cell_type": "markdown",
      "source": [
        "##проверка модели на примере"
      ],
      "metadata": {
        "id": "F5ntQttdzS1q"
      }
    },
    {
      "cell_type": "code",
      "source": [
        "#вводим переменную случайную\n",
        "X_primer = np.array([[45.,\t170.,\t6.,\t90.]])\n",
        "print(X_primer[0])\n",
        "\n",
        "#маштабируем пример\n",
        "X_primer_scale = scaler.transform(X_primer) #\n",
        "print(X_primer_scale)\n",
        "\n",
        "#прогнозируем пример с положительными значениями\n",
        "np.absolute(rf.predict(X_primer_scale).round(2))"
      ],
      "metadata": {
        "colab": {
          "base_uri": "https://localhost:8080/"
        },
        "id": "YAg2dL35za9R",
        "outputId": "5e1e60e7-dc90-4add-efb6-7144cc154ffe"
      },
      "execution_count": null,
      "outputs": [
        {
          "output_type": "stream",
          "name": "stdout",
          "text": [
            "[ 45. 170.   6.  90.]\n",
            "[[-0.4         5.61002143 -1.2893288   0.54660817]]\n"
          ]
        },
        {
          "output_type": "execute_result",
          "data": {
            "text/plain": [
              "array([[1.62, 2.51]])"
            ]
          },
          "metadata": {},
          "execution_count": 72
        }
      ]
    },
    {
      "cell_type": "code",
      "source": [
        "#вводим переменную случайную, ответ 1.2\t1.68\n",
        "X_primer = np.array([[44.,\t146.,\t9.,\t60.]])\n",
        "print(X_primer[0])\n",
        "\n",
        "#маштабируем пример\n",
        "X_primer_scale = scaler.transform(X_primer) #\n",
        "print(X_primer_scale)\n",
        "\n",
        "#прогнозируем пример\n",
        "rf.predict(X_primer_scale).round(2)"
      ],
      "metadata": {
        "id": "AyCae9Bb04yR",
        "colab": {
          "base_uri": "https://localhost:8080/"
        },
        "outputId": "5de86ddf-5678-4b8b-e27b-5894a1b9fe6f"
      },
      "execution_count": null,
      "outputs": [
        {
          "output_type": "stream",
          "name": "stdout",
          "text": [
            "[ 44. 146.   9.  60.]\n",
            "[[-1.          0.9132593   0.17643447 -0.85895569]]\n"
          ]
        },
        {
          "output_type": "execute_result",
          "data": {
            "text/plain": [
              "array([[1.23, 1.8 ]])"
            ]
          },
          "metadata": {},
          "execution_count": 73
        }
      ]
    }
  ]
}